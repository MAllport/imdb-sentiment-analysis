{
 "cells": [
  {
   "cell_type": "code",
   "execution_count": null,
   "metadata": {},
   "outputs": [],
   "source": [
    "import re\n",
    "import string\n",
    "\n",
    "import numpy as np\n",
    "import pandas as pd\n",
    "import sklearn as sk\n",
    "\n",
    "from gensim.models import Word2Vec\n",
    "from gensim.models.doc2vec import Doc2Vec, TaggedDocument\n",
    "from gensim.models import KeyedVectors\n",
    "from gensim.parsing.preprocessing import strip_non_alphanum, strip_numeric\n",
    "from gensim.test.utils import get_tmpfile\n",
    "import gensim.downloader as api\n",
    "\n",
    "from imblearn.pipeline import Pipeline, make_pipeline\n",
    "from sklearn.decomposition import PCA\n",
    "from sklearn.feature_extraction.text import CountVectorizer, TfidfVectorizer, HashingVectorizer\n",
    "\n",
    "from sklearn.linear_model import LogisticRegression\n",
    "from sklearn.metrics import accuracy_score, roc_auc_score\n",
    "from sklearn.model_selection import GridSearchCV, KFold, cross_val_score, train_test_split\n",
    "from sklearn.preprocessing import LabelEncoder, Normalizer, StandardScaler, MaxAbsScaler\n",
    "from sklearn.naive_bayes import GaussianNB\n",
    "\n",
    "import matplotlib.pyplot as plt"
   ]
  },
  {
   "cell_type": "markdown",
   "metadata": {},
   "source": [
    "# Preprocessing"
   ]
  },
  {
   "cell_type": "code",
   "execution_count": null,
   "metadata": {},
   "outputs": [],
   "source": [
    "df = pd.read_csv(\"imdb.csv\")\n",
    "labels = LabelEncoder().fit_transform(df['sentiment'])\n",
    "df['review']"
   ]
  },
  {
   "cell_type": "code",
   "execution_count": null,
   "metadata": {},
   "outputs": [],
   "source": [
    "from gensim.parsing.preprocessing import remove_stopwords\n",
    "\n",
    "def preprocessor(text):\n",
    "    '''\n",
    "    Make text lowercase, remove text in square brackets,remove links,remove special characters\n",
    "    and remove words containing numbers.\n",
    "    '''\n",
    "    text = text.lower()\n",
    "    text = re.sub('\\[.*?\\]', '', text)\n",
    "    text = re.sub(\"\\\\W\",\" \",text) # remove special chars\n",
    "    text = re.sub('https?://\\S+|www\\.\\S+', '', text)\n",
    "    text = re.sub('<.*?>+', '', text)\n",
    "    text = re.sub('[%s]' % re.escape(string.punctuation), '', text)\n",
    "    text = re.sub('\\n', '', text)\n",
    "    text = re.sub('\\w*\\d\\w*', '', text)\n",
    "    text = re.sub('br', '', text)\n",
    "    text = re.sub('\\\\b\\w\\\\b', '', text)\n",
    "    return text\n",
    "\n",
    "\n",
    "#documents = df['review'].apply(preprocessor).apply(remove_stopwords)\n",
    "documents = df['review'].apply(preprocessor)\n",
    "documents"
   ]
  },
  {
   "cell_type": "code",
   "execution_count": null,
   "metadata": {},
   "outputs": [],
   "source": [
    "from nltk.tokenize import word_tokenize\n",
    "tokens = documents.apply(word_tokenize)\n",
    "tokens"
   ]
  },
  {
   "cell_type": "markdown",
   "metadata": {},
   "source": [
    "# EDA"
   ]
  },
  {
   "cell_type": "code",
   "execution_count": null,
   "metadata": {},
   "outputs": [],
   "source": [
    "raw_tokens = df['review'].apply(word_tokenize)\n",
    "unique_words_raw = {token for doc in raw_tokens for token in doc}\n",
    "len(unique_words_raw)"
   ]
  },
  {
   "cell_type": "code",
   "execution_count": null,
   "metadata": {},
   "outputs": [],
   "source": [
    "unique_words = {token for doc in tokens for token in doc}\n",
    "len(unique_words)"
   ]
  },
  {
   "cell_type": "markdown",
   "metadata": {},
   "source": [
    "# FastText pretrained"
   ]
  },
  {
   "cell_type": "code",
   "execution_count": null,
   "metadata": {},
   "outputs": [],
   "source": [
    "wv = KeyedVectors.load_word2vec_format(\"gensim-data/wiki-news-300d-1M.vec\", binary=False)\n",
    "wv"
   ]
  },
  {
   "cell_type": "code",
   "execution_count": null,
   "metadata": {},
   "outputs": [],
   "source": [
    "wv.most_similar(\"cat\")"
   ]
  },
  {
   "cell_type": "code",
   "execution_count": null,
   "metadata": {},
   "outputs": [],
   "source": [
    "# r_vecs = np.array([wv[word] for word in r if word in wv.vocab])\n",
    "\n",
    "# List of strings -> ndarray\n",
    "def embed(doc):\n",
    "    sum = np.zeros(300)\n",
    "    for word in doc:\n",
    "        if word in wv.vocab:\n",
    "            sum += wv.word_vec(word, use_norm=False)\n",
    "    return sum/len(doc)"
   ]
  },
  {
   "cell_type": "code",
   "execution_count": null,
   "metadata": {},
   "outputs": [],
   "source": [
    "# List of strings -> ndarray\n",
    "def embed_norm(doc):\n",
    "    sum = np.zeros(300)\n",
    "    for word in doc:\n",
    "        if word in wv.vocab:\n",
    "            sum += wv.word_vec(word, use_norm=True)\n",
    "    return sum/len(doc)"
   ]
  },
  {
   "cell_type": "code",
   "execution_count": null,
   "metadata": {},
   "outputs": [],
   "source": [
    "# Series of lists of strings ->  Series of ndarrays\n",
    "features = tokens.apply(embed)\n",
    "# features_norm = tokens.apply(embed_norm)\n",
    "\n",
    "# Series of ndarrays -> DataFrame\n",
    "features = pd.DataFrame(features.values.tolist(), index=features.index)\n",
    "# features_norm = pd.DataFrame(features_norm.values.tolist(), index=features_norm.index)"
   ]
  },
  {
   "cell_type": "code",
   "execution_count": null,
   "metadata": {},
   "outputs": [],
   "source": [
    "X_train, X_test, y_train, y_test = train_test_split(features, labels, random_state=0, test_size=0.5)\n",
    "\n",
    "lr = LogisticRegression(solver='newton-cg')\n",
    "lr.fit(X_train, y_train)\n",
    "lr.score(X_test, y_test)"
   ]
  },
  {
   "cell_type": "code",
   "execution_count": null,
   "metadata": {},
   "outputs": [],
   "source": [
    "X_train, X_test, y_train, y_test = train_test_split(features, labels, random_state=0, test_size=0.5)\n",
    "\n",
    "scaler = StandardScaler()\n",
    "X_train_scaled = scaler.fit_transform(X_train)\n",
    "X_test_scaled  = scaler.transform(X_test)\n",
    "\n",
    "lr = LogisticRegression(solver='newton-cg')\n",
    "lr.fit(X_train_scaled, y_train)\n",
    "lr.score(X_test_scaled, y_test)"
   ]
  },
  {
   "cell_type": "code",
   "execution_count": null,
   "metadata": {},
   "outputs": [],
   "source": [
    "X_train, X_test, y_train, y_test = train_test_split(features, labels, random_state=0, test_size=0.3)\n",
    "\n",
    "scaler = StandardScaler()\n",
    "X_train_scaled = scaler.fit_transform(X_train)\n",
    "X_test_scaled  = scaler.transform(X_test)\n",
    "\n",
    "lr = LogisticRegression(solver='newton-cg')\n",
    "lr.fit(X_train_scaled, y_train)\n",
    "lr.score(X_test_scaled, y_test)"
   ]
  },
  {
   "cell_type": "code",
   "execution_count": null,
   "metadata": {},
   "outputs": [],
   "source": [
    "X_train, X_test, y_train, y_test = train_test_split(features, labels, random_state=0, test_size=0.3)\n",
    "\n",
    "normalizer = Normalizer()\n",
    "X_train = normalizer.fit_transform(X_train)\n",
    "X_test = normalizer.fit_transform(X_test)\n",
    "\n",
    "lr = LogisticRegression(solver='newton-cg')\n",
    "lr.fit(X_train, y_train)\n",
    "lr.score(X_test, y_test)"
   ]
  },
  {
   "cell_type": "markdown",
   "metadata": {},
   "source": [
    "# Doc2Vec"
   ]
  },
  {
   "cell_type": "code",
   "execution_count": null,
   "metadata": {},
   "outputs": [],
   "source": [
    "tagged_documents = [TaggedDocument(doc, [i]) for i, doc in enumerate(tokens.tolist())]\n",
    "\n",
    "model = Doc2Vec(vector_size=300, window=3, min_count=3, workers=-1)\n",
    "model.build_vocab(tagged_documents)\n",
    "model.train(tagged_documents, total_examples=model.corpus_count, epochs=40)\n",
    "\n",
    "words = model.wv\n",
    "docvecs = model.docvecs\n",
    "del model\n",
    "\n",
    "print(f\"{len(words.vocab)=}\")"
   ]
  },
  {
   "cell_type": "code",
   "execution_count": null,
   "metadata": {},
   "outputs": [],
   "source": [
    "words.similar_by_word(\"cat\")"
   ]
  },
  {
   "cell_type": "code",
   "execution_count": null,
   "metadata": {},
   "outputs": [],
   "source": [
    "words.evaluate_word_pairs(\"gensim-data/wordsim_similarity_goldstandard.txt\")"
   ]
  },
  {
   "cell_type": "code",
   "execution_count": null,
   "metadata": {},
   "outputs": [],
   "source": [
    "df_docvecs = pd.DataFrame(docvecs.vectors_docs)"
   ]
  },
  {
   "cell_type": "code",
   "execution_count": null,
   "metadata": {},
   "outputs": [],
   "source": [
    "X_train, X_test, y_train, y_test = train_test_split(df_docvecs, labels, random_state=0, test_size=0.5)\n",
    "\n",
    "lr = LogisticRegression(solver='newton-cg')\n",
    "lr.fit(X_train, y_train)\n",
    "lr.score(X_test, y_test)"
   ]
  },
  {
   "cell_type": "code",
   "execution_count": null,
   "metadata": {},
   "outputs": [],
   "source": [
    "X_train, X_test, y_train, y_test = train_test_split(df_docvecs, labels, random_state=0, test_size=0.5)\n",
    "\n",
    "scaler = StandardScaler()\n",
    "X_train = scaler.fit_transform(X_train)\n",
    "X_test = scaler.transform(X_test)\n",
    "\n",
    "lr = LogisticRegression(solver='newton-cg')\n",
    "lr.fit(X_train, y_train)\n",
    "lr.score(X_test, y_test)"
   ]
  },
  {
   "cell_type": "markdown",
   "metadata": {},
   "source": [
    "# Bag-of-words"
   ]
  },
  {
   "cell_type": "code",
   "execution_count": null,
   "metadata": {},
   "outputs": [],
   "source": [
    "X_train, X_test, y_train, y_test = train_test_split(documents, labels, random_state=0, test_size=0.5)\n",
    "\n",
    "pipeline = Pipeline([\n",
    "    ('vectorizer', CountVectorizer(ngram_range=(1,1), max_features=100000)),\n",
    "    ('classifier', LogisticRegression(solver='newton-cg'))\n",
    "    ])\n",
    "\n",
    "pipeline.fit(X_train, y_train)\n",
    "pipeline.score(X_test, y_test)"
   ]
  },
  {
   "cell_type": "code",
   "execution_count": null,
   "metadata": {},
   "outputs": [],
   "source": [
    "X_train, X_test, y_train, y_test = train_test_split(documents, labels, random_state=0, test_size=0.5)\n",
    "\n",
    "pipeline = Pipeline([\n",
    "    ('vectorizer', CountVectorizer(ngram_range=(1,2), max_features=100000)),\n",
    "    ('classifier', LogisticRegression(solver='newton-cg'))\n",
    "    ])\n",
    "\n",
    "pipeline.fit(X_train, y_train)\n",
    "pipeline.score(X_test, y_test)"
   ]
  },
  {
   "cell_type": "code",
   "execution_count": null,
   "metadata": {},
   "outputs": [],
   "source": [
    "X_train, X_test, y_train, y_test = train_test_split(documents, labels, random_state=0, test_size=0.5)\n",
    "\n",
    "pipeline = Pipeline([\n",
    "    ('vectorizer', CountVectorizer(ngram_range=(1,2), max_features=100000)),\n",
    "    ('scaler', MaxAbsScaler()),\n",
    "    ('classifier', LogisticRegression(solver='newton-cg'))\n",
    "    ])\n",
    "\n",
    "pipeline.fit(X_train, y_train)\n",
    "pipeline.score(X_test, y_test)"
   ]
  },
  {
   "cell_type": "code",
   "execution_count": null,
   "metadata": {},
   "outputs": [],
   "source": [
    "X_train, X_test, y_train, y_test = train_test_split(documents, labels, random_state=0, test_size=0.5)\n",
    "\n",
    "pipeline = Pipeline([\n",
    "    ('vectorizer', CountVectorizer(ngram_range=(1,2))),\n",
    "    ('scaler', MaxAbsScaler()),\n",
    "    ('classifier', LogisticRegression(solver='newton-cg'))\n",
    "    ])\n",
    "\n",
    "pipeline.fit(X_train, y_train)\n",
    "print(len(pipeline['vectorizer'].vocabulary_))\n",
    "pipeline.score(X_test, y_test)"
   ]
  },
  {
   "cell_type": "code",
   "execution_count": null,
   "metadata": {},
   "outputs": [],
   "source": [
    "X_train, X_test, y_train, y_test = train_test_split(documents, labels, random_state=0, test_size=0.5)\n",
    "\n",
    "pipeline = Pipeline([\n",
    "    ('vectorizer', CountVectorizer(ngram_range=(2,3), max_features=100000)),\n",
    "    ('scaler', MaxAbsScaler()),\n",
    "    ('classifier', LogisticRegression(solver='newton-cg'))\n",
    "    ])\n",
    "\n",
    "pipeline.fit(X_train, y_train)\n",
    "print(len(pipeline['vectorizer'].vocabulary_))\n",
    "pipeline.score(X_test, y_test)"
   ]
  },
  {
   "cell_type": "code",
   "execution_count": null,
   "metadata": {},
   "outputs": [],
   "source": [
    "X_train, X_test, y_train, y_test = train_test_split(documents, labels, random_state=0, test_size=0.5)\n",
    "\n",
    "pipeline_hashed = Pipeline([\n",
    "    ('vectorizer', HashingVectorizer(n_features=2**22)),\n",
    "    ('classifier', LogisticRegression(solver='newton-cg'))\n",
    "    ])\n",
    "\n",
    "pipeline_hashed.fit(X_train, y_train)\n",
    "pipeline_hashed.score(X_test, y_test)"
   ]
  },
  {
   "cell_type": "code",
   "execution_count": null,
   "metadata": {
    "scrolled": true
   },
   "outputs": [],
   "source": [
    "def auc(model, X, y):\n",
    "    y_pred = model.predict_proba(X)\n",
    "    return roc_auc_score(y, y_pred)"
   ]
  },
  {
   "cell_type": "code",
   "execution_count": null,
   "metadata": {},
   "outputs": [],
   "source": [
    "X_train, X_test, y_train, y_test = train_test_split(documents, labels, random_state=0, test_size=0.5)\n",
    "\n",
    "scores = []\n",
    "sizes = []\n",
    "\n",
    "for n in range(16):\n",
    "    v_size = 2**(n+1)\n",
    "    sizes.append(v_size)\n",
    "\n",
    "    pipeline_hashed = Pipeline([\n",
    "        ('vectorizer', HashingVectorizer(n_features=v_size, ngram_range=(1,2))),\n",
    "        ('classifier', LogisticRegression(solver='newton-cg'))\n",
    "    ])\n",
    "\n",
    "    pipeline_hashed.fit(X_train, y_train)\n",
    "    scores.append(pipeline_hashed.score(X_test, y_test))\n",
    "\n",
    "sn = pd.Series(data=scores, index=sizes)\n",
    "sn.plot.bar(xlabel=\"Vocabulary size\", ylabel=\"Accuracy\")"
   ]
  },
  {
   "cell_type": "code",
   "execution_count": null,
   "metadata": {},
   "outputs": [],
   "source": [
    "fig = sn.plot.bar(xlabel=\"Vocabulary size\", ylabel=\"Accuracy\").get_figure()\n",
    "fig.set_size_inches(18.5, 10.5)\n",
    "plt.savefig(\"img/figure.pdf\")"
   ]
  },
  {
   "cell_type": "code",
   "execution_count": null,
   "metadata": {},
   "outputs": [],
   "source": [
    "X_train, X_test, y_train, y_test = train_test_split(documents, labels, random_state=0, test_size=0.5)\n",
    "\n",
    "scores = []\n",
    "sizes = []\n",
    "\n",
    "for n in (6000, 8000, 10000, 20000, 1730358):\n",
    "    sizes.append(n)\n",
    "\n",
    "    pipeline = Pipeline([\n",
    "        ('vectorizer', CountVectorizer(max_features=n, ngram_range=(1,2))),\n",
    "        ('classifier', LogisticRegression(solver='newton-cg'))\n",
    "    ])\n",
    "\n",
    "    pipeline.fit(X_train, y_train)\n",
    "    scores.append(pipeline.score(X_test, y_test))\n",
    "\n",
    "sc = pd.Series(data=scores, index=sizes)"
   ]
  },
  {
   "cell_type": "code",
   "execution_count": null,
   "metadata": {},
   "outputs": [],
   "source": [
    "X_train, X_test, y_train, y_test = train_test_split(documents, labels, random_state=0, test_size=0.5)\n",
    "\n",
    "pipeline = Pipeline([\n",
    "    ('vectorizer', CountVectorizer(ngram_range=(1,2), max_features=100000)),\n",
    "    ('scaler', MaxAbsScaler()),\n",
    "    ('classifier', LogisticRegression(solver='newton-cg'))\n",
    "    ])\n",
    "\n",
    "pipeline.fit(X_train, y_train)\n",
    "pipeline.score(X_test, y_test)"
   ]
  },
  {
   "cell_type": "code",
   "execution_count": null,
   "metadata": {},
   "outputs": [],
   "source": [
    "from sklearn.decomposition import TruncatedSVD\n",
    "\n",
    "X_train, X_test, y_train, y_test = train_test_split(documents, labels, random_state=0, test_size=0.5)\n",
    "\n",
    "pipeline = Pipeline([\n",
    "    ('vectorizer', CountVectorizer(ngram_range=(1,2), max_features=60000)),\n",
    "    ('scaler', MaxAbsScaler()),\n",
    "    ('pca', TruncatedSVD(n_components=1000, n_iter=5, random_state=0)),\n",
    "    ('classifier', LogisticRegression(solver='newton-cg'))\n",
    "    ])\n",
    "\n",
    "pipeline.fit(X_train, y_train)\n",
    "pipeline.score(X_test, y_test)"
   ]
  },
  {
   "cell_type": "code",
   "execution_count": null,
   "metadata": {},
   "outputs": [],
   "source": [
    "from sklearn.neural_network import MLPClassifier\n",
    "\n",
    "X_train, X_test, y_train, y_test = train_test_split(documents, labels, random_state=0, test_size=0.5)\n",
    "\n",
    "pipeline = Pipeline([\n",
    "    ('vectorizer', CountVectorizer(ngram_range=(1,2), max_features=10000)),\n",
    "    ('scaler', MaxAbsScaler()),\n",
    "    ('classifier', MLPClassifier(solver='lbfgs',\n",
    "                                 alpha=1e-5,\n",
    "                                 hidden_layer_sizes=(100),\n",
    "                                 random_state=0)\n",
    "        )\n",
    "    ])\n",
    "\n",
    "pipeline.fit(X_train, y_train)\n",
    "pipeline.score(X_test, y_test)"
   ]
  }
 ],
 "metadata": {
  "kernelspec": {
   "display_name": "Python [conda env:.conda-nlp] *",
   "language": "python",
   "name": "conda-env-.conda-nlp-py"
  },
  "language_info": {
   "codemirror_mode": {
    "name": "ipython",
    "version": 3
   },
   "file_extension": ".py",
   "mimetype": "text/x-python",
   "name": "python",
   "nbconvert_exporter": "python",
   "pygments_lexer": "ipython3",
   "version": "3.9.0"
  }
 },
 "nbformat": 4,
 "nbformat_minor": 4
}
